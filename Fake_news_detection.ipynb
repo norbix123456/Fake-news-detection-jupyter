{
 "cells": [
  {
   "cell_type": "markdown",
   "id": "2baef9f4",
   "metadata": {},
   "source": [
    "# FAKE NEWS DETECTION PROJECT"
   ]
  },
  {
   "cell_type": "markdown",
   "id": "ee20fe9f",
   "metadata": {},
   "source": [
    "### Loading the dataset "
   ]
  },
  {
   "cell_type": "code",
   "execution_count": 1,
   "id": "184f1927",
   "metadata": {},
   "outputs": [],
   "source": [
    "import pandas as pd\n",
    "\n",
    "df = pd.read_csv(\"fake_news_kaggle/train.csv\")\n",
    "df.dropna(inplace = True)"
   ]
  },
  {
   "cell_type": "code",
   "execution_count": 2,
   "id": "957e4ada",
   "metadata": {},
   "outputs": [
    {
     "name": "stdout",
     "output_type": "stream",
     "text": [
      "Shape of News data: (18285, 5)\n",
      "News data columns Index(['id', 'title', 'author', 'text', 'label'], dtype='object')\n"
     ]
    }
   ],
   "source": [
    "print(\"Shape of News data:\", df.shape)\n",
    "print(\"News data columns\", df.columns)"
   ]
  },
  {
   "cell_type": "code",
   "execution_count": 3,
   "id": "26d6d6b6",
   "metadata": {},
   "outputs": [
    {
     "data": {
      "text/html": [
       "<div>\n",
       "<style scoped>\n",
       "    .dataframe tbody tr th:only-of-type {\n",
       "        vertical-align: middle;\n",
       "    }\n",
       "\n",
       "    .dataframe tbody tr th {\n",
       "        vertical-align: top;\n",
       "    }\n",
       "\n",
       "    .dataframe thead th {\n",
       "        text-align: right;\n",
       "    }\n",
       "</style>\n",
       "<table border=\"1\" class=\"dataframe\">\n",
       "  <thead>\n",
       "    <tr style=\"text-align: right;\">\n",
       "      <th></th>\n",
       "      <th>id</th>\n",
       "      <th>title</th>\n",
       "      <th>author</th>\n",
       "      <th>text</th>\n",
       "      <th>label</th>\n",
       "    </tr>\n",
       "  </thead>\n",
       "  <tbody>\n",
       "    <tr>\n",
       "      <th>0</th>\n",
       "      <td>0</td>\n",
       "      <td>House Dem Aide: We Didn’t Even See Comey’s Let...</td>\n",
       "      <td>Darrell Lucus</td>\n",
       "      <td>House Dem Aide: We Didn’t Even See Comey’s Let...</td>\n",
       "      <td>1</td>\n",
       "    </tr>\n",
       "    <tr>\n",
       "      <th>1</th>\n",
       "      <td>1</td>\n",
       "      <td>FLYNN: Hillary Clinton, Big Woman on Campus - ...</td>\n",
       "      <td>Daniel J. Flynn</td>\n",
       "      <td>Ever get the feeling your life circles the rou...</td>\n",
       "      <td>0</td>\n",
       "    </tr>\n",
       "    <tr>\n",
       "      <th>2</th>\n",
       "      <td>2</td>\n",
       "      <td>Why the Truth Might Get You Fired</td>\n",
       "      <td>Consortiumnews.com</td>\n",
       "      <td>Why the Truth Might Get You Fired October 29, ...</td>\n",
       "      <td>1</td>\n",
       "    </tr>\n",
       "    <tr>\n",
       "      <th>3</th>\n",
       "      <td>3</td>\n",
       "      <td>15 Civilians Killed In Single US Airstrike Hav...</td>\n",
       "      <td>Jessica Purkiss</td>\n",
       "      <td>Videos 15 Civilians Killed In Single US Airstr...</td>\n",
       "      <td>1</td>\n",
       "    </tr>\n",
       "    <tr>\n",
       "      <th>4</th>\n",
       "      <td>4</td>\n",
       "      <td>Iranian woman jailed for fictional unpublished...</td>\n",
       "      <td>Howard Portnoy</td>\n",
       "      <td>Print \\nAn Iranian woman has been sentenced to...</td>\n",
       "      <td>1</td>\n",
       "    </tr>\n",
       "    <tr>\n",
       "      <th>...</th>\n",
       "      <td>...</td>\n",
       "      <td>...</td>\n",
       "      <td>...</td>\n",
       "      <td>...</td>\n",
       "      <td>...</td>\n",
       "    </tr>\n",
       "    <tr>\n",
       "      <th>20795</th>\n",
       "      <td>20795</td>\n",
       "      <td>Rapper T.I.: Trump a ’Poster Child For White S...</td>\n",
       "      <td>Jerome Hudson</td>\n",
       "      <td>Rapper T. I. unloaded on black celebrities who...</td>\n",
       "      <td>0</td>\n",
       "    </tr>\n",
       "    <tr>\n",
       "      <th>20796</th>\n",
       "      <td>20796</td>\n",
       "      <td>N.F.L. Playoffs: Schedule, Matchups and Odds -...</td>\n",
       "      <td>Benjamin Hoffman</td>\n",
       "      <td>When the Green Bay Packers lost to the Washing...</td>\n",
       "      <td>0</td>\n",
       "    </tr>\n",
       "    <tr>\n",
       "      <th>20797</th>\n",
       "      <td>20797</td>\n",
       "      <td>Macy’s Is Said to Receive Takeover Approach by...</td>\n",
       "      <td>Michael J. de la Merced and Rachel Abrams</td>\n",
       "      <td>The Macy’s of today grew from the union of sev...</td>\n",
       "      <td>0</td>\n",
       "    </tr>\n",
       "    <tr>\n",
       "      <th>20798</th>\n",
       "      <td>20798</td>\n",
       "      <td>NATO, Russia To Hold Parallel Exercises In Bal...</td>\n",
       "      <td>Alex Ansary</td>\n",
       "      <td>NATO, Russia To Hold Parallel Exercises In Bal...</td>\n",
       "      <td>1</td>\n",
       "    </tr>\n",
       "    <tr>\n",
       "      <th>20799</th>\n",
       "      <td>20799</td>\n",
       "      <td>What Keeps the F-35 Alive</td>\n",
       "      <td>David Swanson</td>\n",
       "      <td>David Swanson is an author, activist, journa...</td>\n",
       "      <td>1</td>\n",
       "    </tr>\n",
       "  </tbody>\n",
       "</table>\n",
       "<p>18285 rows × 5 columns</p>\n",
       "</div>"
      ],
      "text/plain": [
       "          id                                              title  \\\n",
       "0          0  House Dem Aide: We Didn’t Even See Comey’s Let...   \n",
       "1          1  FLYNN: Hillary Clinton, Big Woman on Campus - ...   \n",
       "2          2                  Why the Truth Might Get You Fired   \n",
       "3          3  15 Civilians Killed In Single US Airstrike Hav...   \n",
       "4          4  Iranian woman jailed for fictional unpublished...   \n",
       "...      ...                                                ...   \n",
       "20795  20795  Rapper T.I.: Trump a ’Poster Child For White S...   \n",
       "20796  20796  N.F.L. Playoffs: Schedule, Matchups and Odds -...   \n",
       "20797  20797  Macy’s Is Said to Receive Takeover Approach by...   \n",
       "20798  20798  NATO, Russia To Hold Parallel Exercises In Bal...   \n",
       "20799  20799                          What Keeps the F-35 Alive   \n",
       "\n",
       "                                          author  \\\n",
       "0                                  Darrell Lucus   \n",
       "1                                Daniel J. Flynn   \n",
       "2                             Consortiumnews.com   \n",
       "3                                Jessica Purkiss   \n",
       "4                                 Howard Portnoy   \n",
       "...                                          ...   \n",
       "20795                              Jerome Hudson   \n",
       "20796                           Benjamin Hoffman   \n",
       "20797  Michael J. de la Merced and Rachel Abrams   \n",
       "20798                                Alex Ansary   \n",
       "20799                              David Swanson   \n",
       "\n",
       "                                                    text  label  \n",
       "0      House Dem Aide: We Didn’t Even See Comey’s Let...      1  \n",
       "1      Ever get the feeling your life circles the rou...      0  \n",
       "2      Why the Truth Might Get You Fired October 29, ...      1  \n",
       "3      Videos 15 Civilians Killed In Single US Airstr...      1  \n",
       "4      Print \\nAn Iranian woman has been sentenced to...      1  \n",
       "...                                                  ...    ...  \n",
       "20795  Rapper T. I. unloaded on black celebrities who...      0  \n",
       "20796  When the Green Bay Packers lost to the Washing...      0  \n",
       "20797  The Macy’s of today grew from the union of sev...      0  \n",
       "20798  NATO, Russia To Hold Parallel Exercises In Bal...      1  \n",
       "20799    David Swanson is an author, activist, journa...      1  \n",
       "\n",
       "[18285 rows x 5 columns]"
      ]
     },
     "metadata": {},
     "output_type": "display_data"
    }
   ],
   "source": [
    "display(df)"
   ]
  },
  {
   "cell_type": "code",
   "execution_count": 4,
   "id": "b0aaa2af",
   "metadata": {},
   "outputs": [
    {
     "name": "stdout",
     "output_type": "stream",
     "text": [
      "0    10361\n",
      "1     7924\n",
      "Name: label, dtype: int64\n"
     ]
    },
    {
     "data": {
      "image/png": "[encoded data removed]",
      "text/plain": [
       "<Figure size 640x480 with 1 Axes>"
      ]
     },
     "metadata": {},
     "output_type": "display_data"
    }
   ],
   "source": [
    "import matplotlib.pyplot as plt\n",
    "\n",
    "print(df.label.value_counts())\n",
    "plt.title(\"Number of True and Fake news\")\n",
    "plt.pie(df.label.value_counts(),labels=[\"True\",\"False\"],autopct='%1.1f%%',explode =[0.2,0], startangle=90)\n",
    "plt.show()"
   ]
  },
  {
   "cell_type": "code",
   "execution_count": 5,
   "id": "4dafc691",
   "metadata": {},
   "outputs": [],
   "source": [
    "df=df.drop(['id','title','author'],axis=1)"
   ]
  },
  {
   "cell_type": "code",
   "execution_count": 6,
   "id": "3f4318e5",
   "metadata": {
    "scrolled": true
   },
   "outputs": [
    {
     "data": {
      "text/plain": [
       "count    18285.000000\n",
       "mean       803.122942\n",
       "std        886.230161\n",
       "min          0.000000\n",
       "25%        304.000000\n",
       "50%        610.000000\n",
       "75%       1092.000000\n",
       "max      24234.000000\n",
       "Name: text, dtype: float64"
      ]
     },
     "execution_count": 6,
     "metadata": {},
     "output_type": "execute_result"
    }
   ],
   "source": [
    "text_length = df.text.str.split().str.len()\n",
    "text_length.describe()"
   ]
  },
  {
   "cell_type": "code",
   "execution_count": 7,
   "id": "d7543688",
   "metadata": {},
   "outputs": [],
   "source": [
    "percentile25 = text_length.quantile(.1)\n",
    "percentile75 = text_length.quantile(.99)"
   ]
  },
  {
   "cell_type": "code",
   "execution_count": 8,
   "id": "4f86ff7b",
   "metadata": {
    "scrolled": true
   },
   "outputs": [
    {
     "data": {
      "image/png": "[encoded data removed]",
      "text/plain": [
       "<Figure size 480x320 with 1 Axes>"
      ]
     },
     "metadata": {},
     "output_type": "display_data"
    }
   ],
   "source": [
    "from matplotlib.pyplot import figure\n",
    "figure(figsize=(6, 4), dpi=80)\n",
    "plt.hist(text_length,bins=50,range=(percentile25, percentile75))\n",
    "plt.ylabel('Number of articles')\n",
    "plt.xlabel('Number of words')\n",
    "plt.title('Structure of text length in the dataset')\n",
    "plt.grid(True)\n",
    "plt.show()"
   ]
  },
  {
   "cell_type": "markdown",
   "id": "0c874ff7",
   "metadata": {},
   "source": [
    "## Cleaning data"
   ]
  },
  {
   "cell_type": "markdown",
   "id": "1fce86ea-8843-40b9-bb4e-6fc06fc8d323",
   "metadata": {},
   "source": [
    "### Remove all besides text (mainly punctuaction)"
   ]
  },
  {
   "cell_type": "code",
   "execution_count": 9,
   "id": "41b683a7",
   "metadata": {},
   "outputs": [],
   "source": [
    "df.text = df.text.str.replace('[^\\w\\s]','',regex=True)"
   ]
  },
  {
   "cell_type": "markdown",
   "id": "beb48c4c-5343-4420-8971-a4c359377579",
   "metadata": {},
   "source": [
    "### Lowering the text"
   ]
  },
  {
   "cell_type": "code",
   "execution_count": 10,
   "id": "3d9d7f37",
   "metadata": {},
   "outputs": [],
   "source": [
    "df.text = df.text.str.lower()"
   ]
  },
  {
   "cell_type": "markdown",
   "id": "c238debc-2171-4d2a-afac-dcebee11fd7c",
   "metadata": {},
   "source": [
    "### Tokenization"
   ]
  },
  {
   "cell_type": "code",
   "execution_count": 17,
   "id": "106d2ddb",
   "metadata": {},
   "outputs": [
    {
     "name": "stderr",
     "output_type": "stream",
     "text": [
      "C:\\Users\\Norbix\\AppData\\Local\\Temp\\ipykernel_2412\\327096081.py:3: SettingWithCopyWarning: \n",
      "A value is trying to be set on a copy of a slice from a DataFrame\n",
      "\n",
      "See the caveats in the documentation: https://pandas.pydata.org/pandas-docs/stable/user_guide/indexing.html#returning-a-view-versus-a-copy\n",
      "  tekst.loc[index]=row.split()\n",
      "C:\\Users\\Norbix\\AppData\\Local\\Temp\\ipykernel_2412\\327096081.py:3: SettingWithCopyWarning: \n",
      "A value is trying to be set on a copy of a slice from a DataFrame\n",
      "\n",
      "See the caveats in the documentation: https://pandas.pydata.org/pandas-docs/stable/user_guide/indexing.html#returning-a-view-versus-a-copy\n",
      "  tekst.loc[index]=row.split()\n",
      "C:\\Users\\Norbix\\AppData\\Local\\Temp\\ipykernel_2412\\327096081.py:3: SettingWithCopyWarning: \n",
      "A value is trying to be set on a copy of a slice from a DataFrame\n",
      "\n",
      "See the caveats in the documentation: https://pandas.pydata.org/pandas-docs/stable/user_guide/indexing.html#returning-a-view-versus-a-copy\n",
      "  tekst.loc[index]=row.split()\n",
      "C:\\Users\\Norbix\\AppData\\Local\\Temp\\ipykernel_2412\\327096081.py:3: SettingWithCopyWarning: \n",
      "A value is trying to be set on a copy of a slice from a DataFrame\n",
      "\n",
      "See the caveats in the documentation: https://pandas.pydata.org/pandas-docs/stable/user_guide/indexing.html#returning-a-view-versus-a-copy\n",
      "  tekst.loc[index]=row.split()\n",
      "C:\\Users\\Norbix\\AppData\\Local\\Temp\\ipykernel_2412\\327096081.py:3: SettingWithCopyWarning: \n",
      "A value is trying to be set on a copy of a slice from a DataFrame\n",
      "\n",
      "See the caveats in the documentation: https://pandas.pydata.org/pandas-docs/stable/user_guide/indexing.html#returning-a-view-versus-a-copy\n",
      "  tekst.loc[index]=row.split()\n",
      "C:\\Users\\Norbix\\AppData\\Local\\Temp\\ipykernel_2412\\327096081.py:3: SettingWithCopyWarning: \n",
      "A value is trying to be set on a copy of a slice from a DataFrame\n",
      "\n",
      "See the caveats in the documentation: https://pandas.pydata.org/pandas-docs/stable/user_guide/indexing.html#returning-a-view-versus-a-copy\n",
      "  tekst.loc[index]=row.split()\n",
      "C:\\Users\\Norbix\\AppData\\Local\\Temp\\ipykernel_2412\\327096081.py:3: SettingWithCopyWarning: \n",
      "A value is trying to be set on a copy of a slice from a DataFrame\n",
      "\n",
      "See the caveats in the documentation: https://pandas.pydata.org/pandas-docs/stable/user_guide/indexing.html#returning-a-view-versus-a-copy\n",
      "  tekst.loc[index]=row.split()\n",
      "C:\\Users\\Norbix\\AppData\\Local\\Temp\\ipykernel_2412\\327096081.py:3: SettingWithCopyWarning: \n",
      "A value is trying to be set on a copy of a slice from a DataFrame\n",
      "\n",
      "See the caveats in the documentation: https://pandas.pydata.org/pandas-docs/stable/user_guide/indexing.html#returning-a-view-versus-a-copy\n",
      "  tekst.loc[index]=row.split()\n",
      "C:\\Users\\Norbix\\AppData\\Local\\Temp\\ipykernel_2412\\327096081.py:3: SettingWithCopyWarning: \n",
      "A value is trying to be set on a copy of a slice from a DataFrame\n",
      "\n",
      "See the caveats in the documentation: https://pandas.pydata.org/pandas-docs/stable/user_guide/indexing.html#returning-a-view-versus-a-copy\n",
      "  tekst.loc[index]=row.split()\n",
      "C:\\Users\\Norbix\\AppData\\Local\\Temp\\ipykernel_2412\\327096081.py:3: SettingWithCopyWarning: \n",
      "A value is trying to be set on a copy of a slice from a DataFrame\n",
      "\n",
      "See the caveats in the documentation: https://pandas.pydata.org/pandas-docs/stable/user_guide/indexing.html#returning-a-view-versus-a-copy\n",
      "  tekst.loc[index]=row.split()\n",
      "C:\\Users\\Norbix\\AppData\\Local\\Temp\\ipykernel_2412\\327096081.py:3: SettingWithCopyWarning: \n",
      "A value is trying to be set on a copy of a slice from a DataFrame\n",
      "\n",
      "See the caveats in the documentation: https://pandas.pydata.org/pandas-docs/stable/user_guide/indexing.html#returning-a-view-versus-a-copy\n",
      "  tekst.loc[index]=row.split()\n",
      "C:\\Users\\Norbix\\AppData\\Local\\Temp\\ipykernel_2412\\327096081.py:3: SettingWithCopyWarning: \n",
      "A value is trying to be set on a copy of a slice from a DataFrame\n",
      "\n",
      "See the caveats in the documentation: https://pandas.pydata.org/pandas-docs/stable/user_guide/indexing.html#returning-a-view-versus-a-copy\n",
      "  tekst.loc[index]=row.split()\n",
      "C:\\Users\\Norbix\\AppData\\Local\\Temp\\ipykernel_2412\\327096081.py:3: SettingWithCopyWarning: \n",
      "A value is trying to be set on a copy of a slice from a DataFrame\n",
      "\n",
      "See the caveats in the documentation: https://pandas.pydata.org/pandas-docs/stable/user_guide/indexing.html#returning-a-view-versus-a-copy\n",
      "  tekst.loc[index]=row.split()\n",
      "C:\\Users\\Norbix\\AppData\\Local\\Temp\\ipykernel_2412\\327096081.py:3: SettingWithCopyWarning: \n",
      "A value is trying to be set on a copy of a slice from a DataFrame\n",
      "\n",
      "See the caveats in the documentation: https://pandas.pydata.org/pandas-docs/stable/user_guide/indexing.html#returning-a-view-versus-a-copy\n",
      "  tekst.loc[index]=row.split()\n",
      "C:\\Users\\Norbix\\AppData\\Local\\Temp\\ipykernel_2412\\327096081.py:3: SettingWithCopyWarning: \n",
      "A value is trying to be set on a copy of a slice from a DataFrame\n",
      "\n",
      "See the caveats in the documentation: https://pandas.pydata.org/pandas-docs/stable/user_guide/indexing.html#returning-a-view-versus-a-copy\n",
      "  tekst.loc[index]=row.split()\n",
      "C:\\Users\\Norbix\\AppData\\Local\\Temp\\ipykernel_2412\\327096081.py:3: SettingWithCopyWarning: \n",
      "A value is trying to be set on a copy of a slice from a DataFrame\n",
      "\n",
      "See the caveats in the documentation: https://pandas.pydata.org/pandas-docs/stable/user_guide/indexing.html#returning-a-view-versus-a-copy\n",
      "  tekst.loc[index]=row.split()\n",
      "C:\\Users\\Norbix\\AppData\\Local\\Temp\\ipykernel_2412\\327096081.py:3: SettingWithCopyWarning: \n",
      "A value is trying to be set on a copy of a slice from a DataFrame\n",
      "\n",
      "See the caveats in the documentation: https://pandas.pydata.org/pandas-docs/stable/user_guide/indexing.html#returning-a-view-versus-a-copy\n",
      "  tekst.loc[index]=row.split()\n",
      "C:\\Users\\Norbix\\AppData\\Local\\Temp\\ipykernel_2412\\327096081.py:3: SettingWithCopyWarning: \n",
      "A value is trying to be set on a copy of a slice from a DataFrame\n",
      "\n",
      "See the caveats in the documentation: https://pandas.pydata.org/pandas-docs/stable/user_guide/indexing.html#returning-a-view-versus-a-copy\n",
      "  tekst.loc[index]=row.split()\n",
      "C:\\Users\\Norbix\\AppData\\Local\\Temp\\ipykernel_2412\\327096081.py:3: SettingWithCopyWarning: \n",
      "A value is trying to be set on a copy of a slice from a DataFrame\n",
      "\n",
      "See the caveats in the documentation: https://pandas.pydata.org/pandas-docs/stable/user_guide/indexing.html#returning-a-view-versus-a-copy\n",
      "  tekst.loc[index]=row.split()\n",
      "C:\\Users\\Norbix\\AppData\\Local\\Temp\\ipykernel_2412\\327096081.py:3: SettingWithCopyWarning: \n",
      "A value is trying to be set on a copy of a slice from a DataFrame\n",
      "\n",
      "See the caveats in the documentation: https://pandas.pydata.org/pandas-docs/stable/user_guide/indexing.html#returning-a-view-versus-a-copy\n",
      "  tekst.loc[index]=row.split()\n",
      "C:\\Users\\Norbix\\AppData\\Local\\Temp\\ipykernel_2412\\327096081.py:3: SettingWithCopyWarning: \n",
      "A value is trying to be set on a copy of a slice from a DataFrame\n",
      "\n",
      "See the caveats in the documentation: https://pandas.pydata.org/pandas-docs/stable/user_guide/indexing.html#returning-a-view-versus-a-copy\n",
      "  tekst.loc[index]=row.split()\n",
      "C:\\Users\\Norbix\\AppData\\Local\\Temp\\ipykernel_2412\\327096081.py:3: SettingWithCopyWarning: \n",
      "A value is trying to be set on a copy of a slice from a DataFrame\n",
      "\n",
      "See the caveats in the documentation: https://pandas.pydata.org/pandas-docs/stable/user_guide/indexing.html#returning-a-view-versus-a-copy\n",
      "  tekst.loc[index]=row.split()\n",
      "C:\\Users\\Norbix\\AppData\\Local\\Temp\\ipykernel_2412\\327096081.py:3: SettingWithCopyWarning: \n",
      "A value is trying to be set on a copy of a slice from a DataFrame\n",
      "\n",
      "See the caveats in the documentation: https://pandas.pydata.org/pandas-docs/stable/user_guide/indexing.html#returning-a-view-versus-a-copy\n",
      "  tekst.loc[index]=row.split()\n",
      "C:\\Users\\Norbix\\AppData\\Local\\Temp\\ipykernel_2412\\327096081.py:3: SettingWithCopyWarning: \n",
      "A value is trying to be set on a copy of a slice from a DataFrame\n",
      "\n",
      "See the caveats in the documentation: https://pandas.pydata.org/pandas-docs/stable/user_guide/indexing.html#returning-a-view-versus-a-copy\n",
      "  tekst.loc[index]=row.split()\n",
      "C:\\Users\\Norbix\\AppData\\Local\\Temp\\ipykernel_2412\\327096081.py:3: SettingWithCopyWarning: \n",
      "A value is trying to be set on a copy of a slice from a DataFrame\n",
      "\n",
      "See the caveats in the documentation: https://pandas.pydata.org/pandas-docs/stable/user_guide/indexing.html#returning-a-view-versus-a-copy\n",
      "  tekst.loc[index]=row.split()\n",
      "C:\\Users\\Norbix\\AppData\\Local\\Temp\\ipykernel_2412\\327096081.py:3: SettingWithCopyWarning: \n",
      "A value is trying to be set on a copy of a slice from a DataFrame\n",
      "\n",
      "See the caveats in the documentation: https://pandas.pydata.org/pandas-docs/stable/user_guide/indexing.html#returning-a-view-versus-a-copy\n",
      "  tekst.loc[index]=row.split()\n",
      "C:\\Users\\Norbix\\AppData\\Local\\Temp\\ipykernel_2412\\327096081.py:3: SettingWithCopyWarning: \n",
      "A value is trying to be set on a copy of a slice from a DataFrame\n",
      "\n",
      "See the caveats in the documentation: https://pandas.pydata.org/pandas-docs/stable/user_guide/indexing.html#returning-a-view-versus-a-copy\n",
      "  tekst.loc[index]=row.split()\n",
      "C:\\Users\\Norbix\\AppData\\Local\\Temp\\ipykernel_2412\\327096081.py:3: SettingWithCopyWarning: \n",
      "A value is trying to be set on a copy of a slice from a DataFrame\n",
      "\n",
      "See the caveats in the documentation: https://pandas.pydata.org/pandas-docs/stable/user_guide/indexing.html#returning-a-view-versus-a-copy\n",
      "  tekst.loc[index]=row.split()\n",
      "C:\\Users\\Norbix\\AppData\\Local\\Temp\\ipykernel_2412\\327096081.py:3: SettingWithCopyWarning: \n",
      "A value is trying to be set on a copy of a slice from a DataFrame\n",
      "\n",
      "See the caveats in the documentation: https://pandas.pydata.org/pandas-docs/stable/user_guide/indexing.html#returning-a-view-versus-a-copy\n",
      "  tekst.loc[index]=row.split()\n"
     ]
    }
   ],
   "source": [
    "tekst=df.text\n",
    "for index,row in tekst.items():\n",
    "    tekst.loc[index]=row.split()\n",
    "df.text=tekst"
   ]
  },
  {
   "cell_type": "markdown",
   "id": "64e46de8-17b5-4a75-8d0d-a1c6f1892414",
   "metadata": {},
   "source": [
    "### Stopwords removal"
   ]
  },
  {
   "cell_type": "code",
   "execution_count": 12,
   "id": "9aa37e31",
   "metadata": {
    "tags": []
   },
   "outputs": [
    {
     "name": "stdout",
     "output_type": "stream",
     "text": [
      "['i', 'me', 'my', 'myself', 'we', 'our', 'ours', 'ourselves', 'you', \"you're\", \"you've\", \"you'll\", \"you'd\", 'your', 'yours', 'yourself', 'yourselves', 'he', 'him', 'his', 'himself', 'she', \"she's\", 'her', 'hers', 'herself', 'it', \"it's\", 'its', 'itself', 'they', 'them', 'their', 'theirs', 'themselves', 'what', 'which', 'who', 'whom', 'this', 'that', \"that'll\", 'these', 'those', 'am', 'is', 'are', 'was', 'were', 'be', 'been', 'being', 'have', 'has', 'had', 'having', 'do', 'does', 'did', 'doing', 'a', 'an', 'the', 'and', 'but', 'if', 'or', 'because', 'as', 'until', 'while', 'of', 'at', 'by', 'for', 'with', 'about', 'against', 'between', 'into', 'through', 'during', 'before', 'after', 'above', 'below', 'to', 'from', 'up', 'down', 'in', 'out', 'on', 'off', 'over', 'under', 'again', 'further', 'then', 'once', 'here', 'there', 'when', 'where', 'why', 'how', 'all', 'any', 'both', 'each', 'few', 'more', 'most', 'other', 'some', 'such', 'no', 'nor', 'not', 'only', 'own', 'same', 'so', 'than', 'too', 'very', 's', 't', 'can', 'will', 'just', 'don', \"don't\", 'should', \"should've\", 'now', 'd', 'll', 'm', 'o', 're', 've', 'y', 'ain', 'aren', \"aren't\", 'couldn', \"couldn't\", 'didn', \"didn't\", 'doesn', \"doesn't\", 'hadn', \"hadn't\", 'hasn', \"hasn't\", 'haven', \"haven't\", 'isn', \"isn't\", 'ma', 'mightn', \"mightn't\", 'mustn', \"mustn't\", 'needn', \"needn't\", 'shan', \"shan't\", 'shouldn', \"shouldn't\", 'wasn', \"wasn't\", 'weren', \"weren't\", 'won', \"won't\", 'wouldn', \"wouldn't\"]\n"
     ]
    }
   ],
   "source": [
    "import nltk\n",
    "\n",
    "stopwords = nltk.corpus.stopwords.words('english')\n",
    "print(stopwords)"
   ]
  },
  {
   "cell_type": "code",
   "execution_count": 13,
   "id": "70bcb0c3",
   "metadata": {
    "tags": []
   },
   "outputs": [
    {
     "name": "stderr",
     "output_type": "stream",
     "text": [
      "C:\\Users\\Norbix\\AppData\\Local\\Temp\\ipykernel_11884\\2882506571.py:2: FutureWarning: The default dtype for empty Series will be 'object' instead of 'float64' in a future version. Specify a dtype explicitly to silence this warning.\n",
      "  ez=pd.Series()\n"
     ]
    }
   ],
   "source": [
    "for i,row in df.text.items():\n",
    "    lst = [word for word in row if not word in stopwords]\n",
    "    df.text.loc[i]=lst\n"
   ]
  },
  {
   "cell_type": "markdown",
   "id": "735f16cb-0c53-4b37-b27e-07f5334578ca",
   "metadata": {
    "tags": []
   },
   "source": [
    "### Stemming"
   ]
  },
  {
   "cell_type": "code",
   "execution_count": 21,
   "id": "d3c0bb74-66fc-42c8-bd38-0b43b002ead4",
   "metadata": {},
   "outputs": [],
   "source": [
    "from nltk.stem.porter import PorterStemmer\n",
    "porter_stemmer = PorterStemmer()\n",
    "for i,row in df.text.items():\n",
    "    lst = [porter_stemmer.stem(word) for word in row]\n",
    "    df.text.loc[i]=lst"
   ]
  },
  {
   "cell_type": "code",
   "execution_count": 22,
   "id": "89077a83-1679-4524-a57d-99e44919acfc",
   "metadata": {},
   "outputs": [
    {
     "name": "stdout",
     "output_type": "stream",
     "text": [
      "['hous', 'dem', 'aid', 'didnt', 'even', 'see', 'comey', 'letter', 'jason', 'chaffetz', 'tweet', 'darrel', 'lucu', 'hous', 'dem', 'aid', 'didnt', 'even', 'see', 'comey', 'letter', 'jason', 'chaffetz', 'tweet', 'darrel', 'lucu', 'octob', '30', '2016', 'subscrib', 'jason', 'chaffetz', 'stump', 'american', 'fork', 'utah', 'imag', 'courtesi', 'michael', 'jolley', 'avail', 'creativ', 'commonsbi', 'licens', 'apolog', 'keith', 'olbermann', 'doubt', 'worst', 'person', 'world', 'weekfbi', 'director', 'jame', 'comey', 'accord', 'hous', 'democrat', 'aid', 'look', 'like', 'also', 'know', 'secondworst', 'person', 'well', 'turn', 'comey', 'sent', 'nowinfam', 'letter', 'announc', 'fbi', 'look', 'email', 'may', 'relat', 'hillari', 'clinton', 'email', 'server', 'rank', 'democrat', 'relev', 'committe', 'didnt', 'hear', 'comey', 'found', 'via', 'tweet', 'one', 'republican', 'committe', 'chairmen', 'know', 'comey', 'notifi', 'republican', 'chairmen', 'democrat', 'rank', 'member', 'hous', 'intellig', 'judiciari', 'oversight', 'committe', 'agenc', 'review', 'email', 'recent', 'discov', 'order', 'see', 'contain', 'classifi', 'inform', 'long', 'letter', 'went', 'oversight', 'committe', 'chairman', 'jason', 'chaffetz', 'set', 'polit', 'world', 'ablaz', 'tweet', 'fbi', 'dir', 'inform', 'fbi', 'learn', 'exist', 'email', 'appear', 'pertin', 'investig', 'case', 'reopen', 'jason', 'chaffetz', 'jasoninthehous', 'octob', '28', '2016', 'cours', 'know', 'case', 'comey', 'actual', 'say', 'review', 'email', 'light', 'unrel', 'casewhich', 'know', 'anthoni', 'weiner', 'sext', 'teenag', 'appar', 'littl', 'thing', 'fact', 'didnt', 'matter', 'chaffetz', 'utah', 'republican', 'alreadi', 'vow', 'initi', 'raft', 'investig', 'hillari', 'winsat', 'least', 'two', 'year', 'worth', 'possibl', 'entir', 'term', 'worth', 'appar', 'chaffetz', 'thought', 'fbi', 'alreadi', 'work', 'himresult', 'tweet', 'briefli', 'roil', 'nation', 'cooler', 'head', 'realiz', 'dud', 'accord', 'senior', 'hous', 'democrat', 'aid', 'misread', 'letter', 'may', 'least', 'chaffetz', 'sin', 'aid', 'told', 'shareblu', 'boss', 'democrat', 'didnt', 'even', 'know', 'comey', 'letter', 'timeand', 'found', 'check', 'twitter', 'democrat', 'rank', 'member', 'relev', 'committe', 'didnt', 'receiv', 'comey', 'letter', 'republican', 'chairmen', 'fact', 'democrat', 'rank', 'member', 'receiv', 'chairman', 'oversight', 'govern', 'reform', 'committe', 'jason', 'chaffetz', 'tweet', 'made', 'public', 'let', 'see', 'weve', 'got', 'right', 'fbi', 'director', 'tell', 'chaffetz', 'gop', 'committe', 'chairmen', 'major', 'develop', 'potenti', 'polit', 'explos', 'investig', 'neither', 'chaffetz', 'colleagu', 'courtesi', 'let', 'democrat', 'counterpart', 'know', 'instead', 'accord', 'aid', 'made', 'find', 'twitter', 'alreadi', 'talk', 'daili', 'ko', 'comey', 'provid', 'advanc', 'notic', 'letter', 'chaffetz', 'republican', 'give', 'time', 'turn', 'spin', 'machin', 'may', 'make', 'good', 'theater', 'noth', 'far', 'even', 'suggest', 'case', 'noth', 'far', 'suggest', 'comey', 'anyth', 'grossli', 'incompet', 'tonedeaf', 'suggest', 'howev', 'chaffetz', 'act', 'way', 'make', 'dan', 'burton', 'darrel', 'issa', 'look', 'like', 'model', 'respons', 'bipartisanship', 'didnt', 'even', 'decenc', 'notifi', 'rank', 'member', 'elijah', 'cum', 'someth', 'explos', 'doesnt', 'trampl', 'basic', 'standard', 'fair', 'dont', 'know', 'grant', 'like', 'chaffetz', 'answer', 'sit', 'ridicul', 'republican', 'district', 'anchor', 'provo', 'orem', 'cook', 'partisan', 'vote', 'index', 'r25', 'gave', 'mitt', 'romney', 'punish', '78', 'percent', 'vote', '2012', 'moreov', 'republican', 'hous', 'leadership', 'given', 'full', 'support', 'chaffetz', 'plan', 'fish', 'expedit', 'doesnt', 'mean', 'cant', 'turn', 'hot', 'light', 'textbook', 'exampl', 'hous', 'becom', 'republican', 'control', 'also', 'second', 'worst', 'person', 'world', 'darrel', 'lucu', 'darrel', '30someth', 'graduat', 'univers', 'north', 'carolina', 'consid', 'journalist', 'old', 'school', 'attempt', 'turn', 'member', 'religi', 'right', 'colleg', 'succeed', 'turn', 'religi', 'right', 'worst', 'nightmarea', 'charismat', 'christian', 'unapologet', 'liber', 'desir', 'stand', 'scare', 'silenc', 'increas', 'surviv', 'abus', 'threeyear', 'marriag', 'may', 'know', 'daili', 'ko', 'christian', 'dem', 'nc', 'follow', 'twitter', 'darrelllucu', 'connect', 'facebook', 'click', 'buy', 'darrel', 'mello', 'yello', 'connect']\n"
     ]
    }
   ],
   "source": []
  }
 ],
 "metadata": {
  "kernelspec": {
   "display_name": "Python 3 (ipykernel)",
   "language": "python",
   "name": "python3"
  },
  "language_info": {
   "codemirror_mode": {
    "name": "ipython",
    "version": 3
   },
   "file_extension": ".py",
   "mimetype": "text/x-python",
   "name": "python",
   "nbconvert_exporter": "python",
   "pygments_lexer": "ipython3",
   "version": "3.10.7"
  },
  "varInspector": {
   "cols": {
    "lenName": 16,
    "lenType": 16,
    "lenVar": 40
   },
   "kernels_config": {
    "python": {
     "delete_cmd_postfix": "",
     "delete_cmd_prefix": "del ",
     "library": "var_list.py",
     "varRefreshCmd": "print(var_dic_list())"
    },
    "r": {
     "delete_cmd_postfix": ") ",
     "delete_cmd_prefix": "rm(",
     "library": "var_list.r",
     "varRefreshCmd": "cat(var_dic_list()) "
    }
   },
   "oldHeight": 122.85400000000001,
   "position": {
    "height": "144.844px",
    "left": "715px",
    "right": "20px",
    "top": "8px",
    "width": "350px"
   },
   "types_to_exclude": [
    "module",
    "function",
    "builtin_function_or_method",
    "instance",
    "_Feature"
   ],
   "varInspector_section_display": "block",
   "window_display": true
  }
 },
 "nbformat": 4,
 "nbformat_minor": 5
}
